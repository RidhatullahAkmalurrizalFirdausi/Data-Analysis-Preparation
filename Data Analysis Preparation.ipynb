{
 "cells": [
  {
   "cell_type": "code",
   "execution_count": 50,
   "metadata": {},
   "outputs": [
    {
     "name": "stdout",
     "output_type": "stream",
     "text": [
      "Dataset:\n",
      "      Negara    A    B     C     D\n",
      "0  Indosenia  1.0  5.0  99.0  12.0\n",
      "1   Malaysia  2.0  NaN   9.0   8.0\n",
      "2  Singapura  NaN  7.0   NaN  14.0\n",
      "3   Malaysia  2.0  NaN   9.0   8.0\n",
      "4   Thailand  3.0  NaN  11.0  15.0\n",
      "5       None  NaN  NaN   NaN   NaN\n"
     ]
    }
   ],
   "source": [
    "import pandas as pd\n",
    "import numpy as np\n",
    "\n",
    "data = pd.DataFrame(\n",
    "    {\n",
    "        \"Negara\": [\"Indosenia\", \"Malaysia\", \"Singapura\", \"Malaysia\", \"Thailand\", None],\n",
    "        \"A\": [1, 2, None, 2, 3, None],\n",
    "        \"B\": [5, None, 7, None, None, None],\n",
    "        \"C\": [99, 9, None, 9, 11, None],\n",
    "        \"D\": [12, 8, 14, 8, 15, None],\n",
    "    }\n",
    ")\n",
    "print(\"Dataset:\")\n",
    "print(data)"
   ]
  },
  {
   "cell_type": "code",
   "execution_count": 51,
   "metadata": {},
   "outputs": [
    {
     "data": {
      "text/html": [
       "<div>\n",
       "<style scoped>\n",
       "    .dataframe tbody tr th:only-of-type {\n",
       "        vertical-align: middle;\n",
       "    }\n",
       "\n",
       "    .dataframe tbody tr th {\n",
       "        vertical-align: top;\n",
       "    }\n",
       "\n",
       "    .dataframe thead th {\n",
       "        text-align: right;\n",
       "    }\n",
       "</style>\n",
       "<table border=\"1\" class=\"dataframe\">\n",
       "  <thead>\n",
       "    <tr style=\"text-align: right;\">\n",
       "      <th></th>\n",
       "      <th>A</th>\n",
       "      <th>B</th>\n",
       "      <th>C</th>\n",
       "      <th>D</th>\n",
       "    </tr>\n",
       "  </thead>\n",
       "  <tbody>\n",
       "    <tr>\n",
       "      <th>count</th>\n",
       "      <td>4.000000</td>\n",
       "      <td>2.000000</td>\n",
       "      <td>4.000000</td>\n",
       "      <td>5.000000</td>\n",
       "    </tr>\n",
       "    <tr>\n",
       "      <th>mean</th>\n",
       "      <td>2.000000</td>\n",
       "      <td>6.000000</td>\n",
       "      <td>32.000000</td>\n",
       "      <td>11.400000</td>\n",
       "    </tr>\n",
       "    <tr>\n",
       "      <th>std</th>\n",
       "      <td>0.816497</td>\n",
       "      <td>1.414214</td>\n",
       "      <td>44.676616</td>\n",
       "      <td>3.286335</td>\n",
       "    </tr>\n",
       "    <tr>\n",
       "      <th>min</th>\n",
       "      <td>1.000000</td>\n",
       "      <td>5.000000</td>\n",
       "      <td>9.000000</td>\n",
       "      <td>8.000000</td>\n",
       "    </tr>\n",
       "    <tr>\n",
       "      <th>25%</th>\n",
       "      <td>1.750000</td>\n",
       "      <td>5.500000</td>\n",
       "      <td>9.000000</td>\n",
       "      <td>8.000000</td>\n",
       "    </tr>\n",
       "    <tr>\n",
       "      <th>50%</th>\n",
       "      <td>2.000000</td>\n",
       "      <td>6.000000</td>\n",
       "      <td>10.000000</td>\n",
       "      <td>12.000000</td>\n",
       "    </tr>\n",
       "    <tr>\n",
       "      <th>75%</th>\n",
       "      <td>2.250000</td>\n",
       "      <td>6.500000</td>\n",
       "      <td>33.000000</td>\n",
       "      <td>14.000000</td>\n",
       "    </tr>\n",
       "    <tr>\n",
       "      <th>max</th>\n",
       "      <td>3.000000</td>\n",
       "      <td>7.000000</td>\n",
       "      <td>99.000000</td>\n",
       "      <td>15.000000</td>\n",
       "    </tr>\n",
       "  </tbody>\n",
       "</table>\n",
       "</div>"
      ],
      "text/plain": [
       "              A         B          C          D\n",
       "count  4.000000  2.000000   4.000000   5.000000\n",
       "mean   2.000000  6.000000  32.000000  11.400000\n",
       "std    0.816497  1.414214  44.676616   3.286335\n",
       "min    1.000000  5.000000   9.000000   8.000000\n",
       "25%    1.750000  5.500000   9.000000   8.000000\n",
       "50%    2.000000  6.000000  10.000000  12.000000\n",
       "75%    2.250000  6.500000  33.000000  14.000000\n",
       "max    3.000000  7.000000  99.000000  15.000000"
      ]
     },
     "execution_count": 51,
     "metadata": {},
     "output_type": "execute_result"
    }
   ],
   "source": [
    "data.describe()"
   ]
  },
  {
   "cell_type": "markdown",
   "metadata": {},
   "source": [
    "MISSING VALUE"
   ]
  },
  {
   "cell_type": "code",
   "execution_count": 52,
   "metadata": {},
   "outputs": [
    {
     "name": "stdout",
     "output_type": "stream",
     "text": [
      "\n",
      "Missing values in the entire dataset:\n",
      "Negara    1\n",
      "A         2\n",
      "B         4\n",
      "C         2\n",
      "D         1\n",
      "dtype: int64\n",
      "\n",
      "Columns with missing values:\n",
      "['Negara', 'A', 'B', 'C', 'D']\n"
     ]
    }
   ],
   "source": [
    "print(\"\\nMissing values in the entire dataset:\")\n",
    "print(data.isnull().sum()) #untuk melihat apakah ada data yang null, kemudian dijumlahkan untuk setiap kolom\n",
    "\n",
    "print(\"\\nColumns with missing values:\")\n",
    "print(data.columns[data.isnull().any()].tolist()) #untuk menampilkan kolom mana saja yang memiliki nilai null "
   ]
  },
  {
   "cell_type": "code",
   "execution_count": 53,
   "metadata": {},
   "outputs": [
    {
     "name": "stdout",
     "output_type": "stream",
     "text": [
      "      Negara    A    B     C     D\n",
      "0  Indosenia  1.0  5.0  99.0  12.0\n",
      "1   Malaysia  2.0  NaN   9.0   8.0\n",
      "2  Singapura  NaN  7.0   NaN  14.0\n",
      "3   Malaysia  2.0  NaN   9.0   8.0\n",
      "4   Thailand  3.0  NaN  11.0  15.0\n"
     ]
    }
   ],
   "source": [
    "drop_row = data.dropna(how='all') #dropna untuk menghapus nilai null, how='all' akan menghapus baris dengan isi semua null\n",
    "print(drop_row)"
   ]
  },
  {
   "cell_type": "code",
   "execution_count": 54,
   "metadata": {},
   "outputs": [
    {
     "name": "stdout",
     "output_type": "stream",
     "text": [
      "      Negara    A    B     C     D\n",
      "0  Indosenia  1.0  5.0  99.0  12.0\n"
     ]
    }
   ],
   "source": [
    "drop_row = data.dropna(how='any') #how='any' akan menghapus semua baris dengan minimal 1 nilai null\n",
    "print(drop_row)"
   ]
  },
  {
   "cell_type": "code",
   "execution_count": 55,
   "metadata": {},
   "outputs": [
    {
     "name": "stdout",
     "output_type": "stream",
     "text": [
      "      Negara    A     C     D\n",
      "0  Indosenia  1.0  99.0  12.0\n",
      "1   Malaysia  2.0   9.0   8.0\n",
      "2  Singapura  NaN   NaN  14.0\n",
      "3   Malaysia  2.0   9.0   8.0\n",
      "4   Thailand  3.0  11.0  15.0\n",
      "5       None  NaN   NaN   NaN\n"
     ]
    }
   ],
   "source": [
    "drop_col = data.dropna(thresh=4, axis='columns') #thresh akan menghapus kolom dengan nilai bukan null yang kurang dari angka yang ditetapkan\n",
    "                                                 # di sini, kolom B hanya memiliki 2 nilai yang bukan null (<4), sehingga kolom B yang dihapuskan\n",
    "print(drop_col)"
   ]
  },
  {
   "cell_type": "code",
   "execution_count": 56,
   "metadata": {},
   "outputs": [
    {
     "name": "stdout",
     "output_type": "stream",
     "text": [
      "      Negara    A     B     C     D\n",
      "0  Indosenia  1.0   5.0  99.0  12.0\n",
      "1   Malaysia  2.0  10.0   9.0   8.0\n",
      "2  Singapura  0.0   7.0  32.0  14.0\n",
      "3   Malaysia  2.0  10.0   9.0   8.0\n",
      "4   Thailand  3.0  10.0  11.0  15.0\n",
      "5       None  0.0  10.0  32.0   NaN\n"
     ]
    }
   ],
   "source": [
    "fill_na = data.fillna({'A':0, 'B':10, 'C':data['C'].mean()}) #mengisi nilai null. bisa dengan angka atau nilai statistik seperti mean dll\n",
    "print(fill_na)"
   ]
  },
  {
   "cell_type": "code",
   "execution_count": 57,
   "metadata": {},
   "outputs": [
    {
     "name": "stdout",
     "output_type": "stream",
     "text": [
      "\n",
      "Original column A:\n",
      "0    1.0\n",
      "1    2.0\n",
      "2    NaN\n",
      "3    2.0\n",
      "4    3.0\n",
      "5    NaN\n",
      "Name: A, dtype: float64\n",
      "\n",
      "Imputed column A:\n",
      "0    1.0\n",
      "1    2.0\n",
      "2    2.0\n",
      "3    2.0\n",
      "4    3.0\n",
      "5    2.0\n",
      "Name: A, dtype: float64\n"
     ]
    }
   ],
   "source": [
    "print('\\nOriginal column A:')\n",
    "print(data['A'])\n",
    "\n",
    "dataA_imputed = data['A'].fillna(data['A'].mean()) #mengisi nilai null dengan rata-rata pada kolom tersebut. 8/4=2, sehingga nilai null diisi 2\n",
    "\n",
    "print('\\nImputed column A:')\n",
    "print(dataA_imputed)"
   ]
  },
  {
   "cell_type": "code",
   "execution_count": 58,
   "metadata": {},
   "outputs": [
    {
     "name": "stdout",
     "output_type": "stream",
     "text": [
      "\n",
      "Original column B:\n",
      "0    5.0\n",
      "1    NaN\n",
      "2    7.0\n",
      "3    NaN\n",
      "4    NaN\n",
      "5    NaN\n",
      "Name: B, dtype: float64\n",
      "\n",
      "Forward-filled column B:\n",
      "0    5.0\n",
      "1    5.0\n",
      "2    7.0\n",
      "3    7.0\n",
      "4    7.0\n",
      "5    7.0\n",
      "Name: B, dtype: float64\n",
      "\n",
      "Backward-filled column B:\n",
      "0    5.0\n",
      "1    7.0\n",
      "2    7.0\n",
      "3    NaN\n",
      "4    NaN\n",
      "5    NaN\n",
      "Name: B, dtype: float64\n"
     ]
    },
    {
     "name": "stderr",
     "output_type": "stream",
     "text": [
      "/var/folders/vt/fphsv6695mj1tgxphw4lf8700000gn/T/ipykernel_22798/217558247.py:4: FutureWarning: Series.fillna with 'method' is deprecated and will raise in a future version. Use obj.ffill() or obj.bfill() instead.\n",
      "  dataB_Imputed = data['B'].fillna(method='ffill') #mengisi data null dengan nilai yang sama pada data sebelumnya\n",
      "/var/folders/vt/fphsv6695mj1tgxphw4lf8700000gn/T/ipykernel_22798/217558247.py:8: FutureWarning: Series.fillna with 'method' is deprecated and will raise in a future version. Use obj.ffill() or obj.bfill() instead.\n",
      "  dataB_Imputed = data['B'].fillna(method='bfill') #mengisi data null dengan nilai yang sama pada data setelahnya\n"
     ]
    }
   ],
   "source": [
    "print('\\nOriginal column B:')\n",
    "print(data['B'])\n",
    "\n",
    "dataB_Imputed = data['B'].fillna(method='ffill') #mengisi data null dengan nilai yang sama pada data sebelumnya\n",
    "print(\"\\nForward-filled column B:\")\n",
    "print(dataB_Imputed)\n",
    "\n",
    "dataB_Imputed = data['B'].fillna(method='bfill') #mengisi data null dengan nilai yang sama pada data setelahnya\n",
    "print(\"\\nBackward-filled column B:\")\n",
    "print(dataB_Imputed)\n"
   ]
  },
  {
   "cell_type": "markdown",
   "metadata": {},
   "source": [
    "DATA DUPLICATE"
   ]
  },
  {
   "cell_type": "code",
   "execution_count": 59,
   "metadata": {},
   "outputs": [
    {
     "data": {
      "text/html": [
       "<div>\n",
       "<style scoped>\n",
       "    .dataframe tbody tr th:only-of-type {\n",
       "        vertical-align: middle;\n",
       "    }\n",
       "\n",
       "    .dataframe tbody tr th {\n",
       "        vertical-align: top;\n",
       "    }\n",
       "\n",
       "    .dataframe thead th {\n",
       "        text-align: right;\n",
       "    }\n",
       "</style>\n",
       "<table border=\"1\" class=\"dataframe\">\n",
       "  <thead>\n",
       "    <tr style=\"text-align: right;\">\n",
       "      <th></th>\n",
       "      <th>Negara</th>\n",
       "      <th>A</th>\n",
       "      <th>B</th>\n",
       "      <th>C</th>\n",
       "      <th>D</th>\n",
       "    </tr>\n",
       "  </thead>\n",
       "  <tbody>\n",
       "    <tr>\n",
       "      <th>3</th>\n",
       "      <td>Malaysia</td>\n",
       "      <td>2.0</td>\n",
       "      <td>NaN</td>\n",
       "      <td>9.0</td>\n",
       "      <td>8.0</td>\n",
       "    </tr>\n",
       "  </tbody>\n",
       "</table>\n",
       "</div>"
      ],
      "text/plain": [
       "     Negara    A   B    C    D\n",
       "3  Malaysia  2.0 NaN  9.0  8.0"
      ]
     },
     "execution_count": 59,
     "metadata": {},
     "output_type": "execute_result"
    }
   ],
   "source": [
    "duplicate = data.duplicated() #menampilkan data yang duplicate\n",
    "data[duplicate]"
   ]
  },
  {
   "cell_type": "code",
   "execution_count": 60,
   "metadata": {},
   "outputs": [
    {
     "name": "stdout",
     "output_type": "stream",
     "text": [
      "      Negara    A    B     C     D\n",
      "0  Indosenia  1.0  5.0  99.0  12.0\n",
      "1   Malaysia  2.0  NaN   9.0   8.0\n",
      "2  Singapura  NaN  7.0   NaN  14.0\n",
      "4   Thailand  3.0  NaN  11.0  15.0\n",
      "5       None  NaN  NaN   NaN   NaN\n"
     ]
    }
   ],
   "source": [
    "duplicated_data = data.drop_duplicates() #menghapus baris yang duplicate\n",
    "print(duplicated_data)"
   ]
  },
  {
   "cell_type": "code",
   "execution_count": 61,
   "metadata": {},
   "outputs": [
    {
     "name": "stdout",
     "output_type": "stream",
     "text": [
      "      Negara    A    B     C     D\n",
      "0  Indosenia  1.0  5.0  99.0  12.0\n",
      "2  Singapura  NaN  7.0   NaN  14.0\n",
      "3   Malaysia  2.0  NaN   9.0   8.0\n",
      "4   Thailand  3.0  NaN  11.0  15.0\n",
      "5       None  NaN  NaN   NaN   NaN\n"
     ]
    }
   ],
   "source": [
    "duplicated_data = data.drop_duplicates(keep='last') #membuat baris duplicate yang terakhir yang tetap ada\n",
    "print(duplicated_data)"
   ]
  },
  {
   "cell_type": "markdown",
   "metadata": {},
   "source": [
    "TYPO DATA"
   ]
  },
  {
   "cell_type": "code",
   "execution_count": 62,
   "metadata": {},
   "outputs": [
    {
     "name": "stdout",
     "output_type": "stream",
     "text": [
      "      Negara    A    B     C     D\n",
      "0  Indonesia  1.0  5.0  99.0  12.0\n",
      "1   Malaysia  2.0  NaN   9.0   8.0\n",
      "2  Singapura  NaN  7.0   NaN  14.0\n",
      "3   Malaysia  2.0  NaN   9.0   8.0\n",
      "4   Thailand  3.0  NaN  11.0  15.0\n",
      "5       None  NaN  NaN   NaN   NaN\n"
     ]
    }
   ],
   "source": [
    "typo_data = data.copy()\n",
    "typo_data['Negara'] = typo_data['Negara'].replace(['Indosenia'], 'Indonesia') #mengubah data typo di kolom tertentu\n",
    "print(typo_data)"
   ]
  },
  {
   "cell_type": "code",
   "execution_count": 63,
   "metadata": {},
   "outputs": [
    {
     "name": "stdout",
     "output_type": "stream",
     "text": [
      "      Negara    A    B     C     D\n",
      "0  Indonesia  1.0  5.0  99.0  12.0\n",
      "1   Malaysia  2.0  NaN   9.0   8.0\n",
      "2  Singapura  NaN  7.0   NaN  14.0\n",
      "3   Malaysia  2.0  NaN   9.0   8.0\n",
      "4     Brunei  3.0  NaN  11.0  15.0\n",
      "5       None  NaN  NaN   NaN   NaN\n"
     ]
    }
   ],
   "source": [
    "typo_data['Negara'] = typo_data['Negara'].replace(['Indosenia', 'Thailand'], ['Indonesia', 'Brunei']) #mengubah data typo di kolom tertentu (kasus lebih dari 1 data)\n",
    "print(typo_data)"
   ]
  },
  {
   "cell_type": "markdown",
   "metadata": {},
   "source": [
    "OUTLIER DATA"
   ]
  },
  {
   "cell_type": "code",
   "execution_count": 64,
   "metadata": {},
   "outputs": [
    {
     "data": {
      "image/png": "[encoded data removed]",
      "text/plain": [
       "<Figure size 640x480 with 1 Axes>"
      ]
     },
     "metadata": {},
     "output_type": "display_data"
    }
   ],
   "source": [
    "boxplot = data.boxplot(column=['A', 'B', 'C', 'D'])"
   ]
  },
  {
   "cell_type": "code",
   "execution_count": 65,
   "metadata": {},
   "outputs": [
    {
     "name": "stdout",
     "output_type": "stream",
     "text": [
      "      Negara    A    B     C     D\n",
      "0  Indosenia  1.0  5.0  99.0  12.0\n",
      "1   Malaysia  2.0  NaN   9.0   8.0\n",
      "2  Singapura  NaN  7.0   NaN  14.0\n",
      "3   Malaysia  2.0  NaN   9.0   8.0\n",
      "4   Thailand  3.0  NaN  11.0  15.0\n"
     ]
    }
   ],
   "source": [
    "drop_row = data.dropna(how='all') #how='all' akan menghapus baris dengan isi semua null\n",
    "print(drop_row)"
   ]
  },
  {
   "cell_type": "code",
   "execution_count": 66,
   "metadata": {},
   "outputs": [
    {
     "name": "stdout",
     "output_type": "stream",
     "text": [
      "      Negara    A    B     C     D\n",
      "0  Indosenia  1.0  5.0  99.0  12.0\n",
      "1   Malaysia  2.0  0.0   9.0   8.0\n",
      "2  Singapura  0.0  7.0   0.0  14.0\n",
      "3   Malaysia  2.0  0.0   9.0   8.0\n",
      "4   Thailand  3.0  0.0  11.0  15.0\n"
     ]
    }
   ],
   "source": [
    "fill_na = drop_row.fillna({'A':0, 'B':0, 'C':0, 'D':0}) #mengisi semua nilai null pada masing-masing baris dengan 0\n",
    "print(fill_na)"
   ]
  },
  {
   "cell_type": "code",
   "execution_count": 67,
   "metadata": {},
   "outputs": [
    {
     "name": "stdout",
     "output_type": "stream",
     "text": [
      "2.0\n"
     ]
    }
   ],
   "source": [
    "Q1 = fill_na['C'].quantile(0.25)\n",
    "Q3 = fill_na['C'].quantile(0.75)\n",
    "IQR = Q3-Q1\n",
    "print(IQR)"
   ]
  },
  {
   "cell_type": "code",
   "execution_count": 73,
   "metadata": {},
   "outputs": [
    {
     "name": "stdout",
     "output_type": "stream",
     "text": [
      "upper_limit: 14.0\n",
      "lower_limit: 6.0\n",
      "Jadi jika nilai di luar 14.0 dan 6.0 maka akan dianggap sebagai outliers\n"
     ]
    }
   ],
   "source": [
    "upper_limit = Q3 + 1.5 * IQR #rumus batas atas untuk penentuan outlier\n",
    "lower_limit = Q1 - 1.5 * IQR #rumus batas bawah untuk penentuan outlier\n",
    "\n",
    "print(\"upper_limit:\", upper_limit) \n",
    "print(\"lower_limit:\", lower_limit)\n",
    "print(\"Jadi jika nilai di luar 14.0 dan 6.0 maka akan dianggap sebagai outliers\")"
   ]
  },
  {
   "cell_type": "code",
   "execution_count": 84,
   "metadata": {},
   "outputs": [
    {
     "name": "stdout",
     "output_type": "stream",
     "text": [
      "      Negara    A    B     C     D\n",
      "0  Indosenia  1.0  5.0  99.0  12.0\n",
      "1   Malaysia  2.0  0.0   9.0   8.0\n",
      "2  Singapura  0.0  7.0   0.0  14.0\n",
      "3   Malaysia  2.0  0.0   9.0   8.0\n",
      "4   Thailand  3.0  0.0  11.0  15.0\n"
     ]
    },
    {
     "data": {
      "text/html": [
       "<div>\n",
       "<style scoped>\n",
       "    .dataframe tbody tr th:only-of-type {\n",
       "        vertical-align: middle;\n",
       "    }\n",
       "\n",
       "    .dataframe tbody tr th {\n",
       "        vertical-align: top;\n",
       "    }\n",
       "\n",
       "    .dataframe thead th {\n",
       "        text-align: right;\n",
       "    }\n",
       "</style>\n",
       "<table border=\"1\" class=\"dataframe\">\n",
       "  <thead>\n",
       "    <tr style=\"text-align: right;\">\n",
       "      <th></th>\n",
       "      <th>Negara</th>\n",
       "      <th>A</th>\n",
       "      <th>B</th>\n",
       "      <th>C</th>\n",
       "      <th>D</th>\n",
       "    </tr>\n",
       "  </thead>\n",
       "  <tbody>\n",
       "    <tr>\n",
       "      <th>4</th>\n",
       "      <td>Thailand</td>\n",
       "      <td>3.0</td>\n",
       "      <td>0.0</td>\n",
       "      <td>11.0</td>\n",
       "      <td>15.0</td>\n",
       "    </tr>\n",
       "  </tbody>\n",
       "</table>\n",
       "</div>"
      ],
      "text/plain": [
       "     Negara    A    B     C     D\n",
       "4  Thailand  3.0  0.0  11.0  15.0"
      ]
     },
     "execution_count": 84,
     "metadata": {},
     "output_type": "execute_result"
    }
   ],
   "source": [
    "print(fill_na)\n",
    "fill_na[fill_na['D'] > upper_limit] #akan menunjukkan kolom mana yang memiliki nilai yang melebihi upper limit pada baris yang ditentukan"
   ]
  },
  {
   "cell_type": "code",
   "execution_count": 90,
   "metadata": {},
   "outputs": [
    {
     "name": "stdout",
     "output_type": "stream",
     "text": [
      "      Negara    A    B     C     D\n",
      "0  Indosenia  1.0  5.0  99.0  12.0\n",
      "1   Malaysia  2.0  0.0   9.0   8.0\n",
      "2  Singapura  0.0  7.0   0.0  14.0\n",
      "3   Malaysia  2.0  0.0   9.0   8.0\n",
      "4   Thailand  3.0  0.0  11.0  15.0\n"
     ]
    },
    {
     "data": {
      "text/html": [
       "<div>\n",
       "<style scoped>\n",
       "    .dataframe tbody tr th:only-of-type {\n",
       "        vertical-align: middle;\n",
       "    }\n",
       "\n",
       "    .dataframe tbody tr th {\n",
       "        vertical-align: top;\n",
       "    }\n",
       "\n",
       "    .dataframe thead th {\n",
       "        text-align: right;\n",
       "    }\n",
       "</style>\n",
       "<table border=\"1\" class=\"dataframe\">\n",
       "  <thead>\n",
       "    <tr style=\"text-align: right;\">\n",
       "      <th></th>\n",
       "      <th>Negara</th>\n",
       "      <th>A</th>\n",
       "      <th>B</th>\n",
       "      <th>C</th>\n",
       "      <th>D</th>\n",
       "    </tr>\n",
       "  </thead>\n",
       "  <tbody>\n",
       "    <tr>\n",
       "      <th>2</th>\n",
       "      <td>Singapura</td>\n",
       "      <td>0.0</td>\n",
       "      <td>7.0</td>\n",
       "      <td>0.0</td>\n",
       "      <td>14.0</td>\n",
       "    </tr>\n",
       "  </tbody>\n",
       "</table>\n",
       "</div>"
      ],
      "text/plain": [
       "      Negara    A    B    C     D\n",
       "2  Singapura  0.0  7.0  0.0  14.0"
      ]
     },
     "execution_count": 90,
     "metadata": {},
     "output_type": "execute_result"
    }
   ],
   "source": [
    "print(fill_na)\n",
    "fill_na[fill_na['C'] < lower_limit] #akan menunjukkan kolom mana yang memiliki nilai yang kurang dari lower limit pada baris yang ditentukan"
   ]
  },
  {
   "cell_type": "code",
   "execution_count": 100,
   "metadata": {},
   "outputs": [
    {
     "name": "stdout",
     "output_type": "stream",
     "text": [
      "      Negara    A    B     C     D\n",
      "1   Malaysia  2.0  0.0   9.0   8.0\n",
      "2  Singapura  0.0  7.0   0.0  14.0\n",
      "3   Malaysia  2.0  0.0   9.0   8.0\n",
      "4   Thailand  3.0  0.0  11.0  15.0\n"
     ]
    }
   ],
   "source": [
    "# 1. Trimming Outliers\n",
    "new_df = fill_na[fill_na['C'] < upper_limit] #hanya kolom yang memiliki nilai kurang dari upper limit pada baris yang ditentukan yang akan muncul\n",
    "print(new_df)"
   ]
  },
  {
   "cell_type": "code",
   "execution_count": 104,
   "metadata": {},
   "outputs": [
    {
     "name": "stdout",
     "output_type": "stream",
     "text": [
      "upper_limit: 14.0\n",
      "lower_limit: 6.0\n"
     ]
    }
   ],
   "source": [
    "print(\"upper_limit:\", upper_limit) \n",
    "print(\"lower_limit:\", lower_limit)"
   ]
  },
  {
   "cell_type": "code",
   "execution_count": 109,
   "metadata": {},
   "outputs": [
    {
     "name": "stdout",
     "output_type": "stream",
     "text": [
      "      Negara    A    B     C     D\n",
      "0  Indosenia  1.0  5.0  14.0  12.0\n",
      "1   Malaysia  2.0  0.0   9.0   8.0\n",
      "2  Singapura  0.0  7.0   6.0  14.0\n",
      "3   Malaysia  2.0  0.0   9.0   8.0\n",
      "4   Thailand  3.0  0.0  11.0  15.0\n",
      "\n",
      "Mengganti nilai outliers, di mana jika nilai > upper limit maka akan diganti menjadi nilai upper limitnya.\n",
      "Jika nilai < lower limit maka akan diganti menjadi nilai lower limitnya.\n"
     ]
    }
   ],
   "source": [
    "new_df_cap = fill_na.copy()\n",
    "new_df_cap['C'] = np.where(\n",
    "    new_df_cap['C'] > upper_limit,\n",
    "    upper_limit,\n",
    "    np.where(\n",
    "        new_df_cap['C'] < lower_limit,\n",
    "        lower_limit,\n",
    "        new_df_cap['C']\n",
    "    )\n",
    ")\n",
    "print(new_df_cap)\n",
    "print(\"\\nMengganti nilai outliers, di mana jika nilai > upper limit maka akan diganti menjadi nilai upper limitnya.\")\n",
    "print(\"Jika nilai < lower limit maka akan diganti menjadi nilai lower limitnya.\")"
   ]
  }
 ],
 "metadata": {
  "kernelspec": {
   "display_name": "Python 3",
   "language": "python",
   "name": "python3"
  },
  "language_info": {
   "codemirror_mode": {
    "name": "ipython",
    "version": 3
   },
   "file_extension": ".py",
   "mimetype": "text/x-python",
   "name": "python",
   "nbconvert_exporter": "python",
   "pygments_lexer": "ipython3",
   "version": "3.12.2"
  }
 },
 "nbformat": 4,
 "nbformat_minor": 2
}
